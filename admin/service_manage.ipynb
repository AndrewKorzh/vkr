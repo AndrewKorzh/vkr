{
 "cells": [
  {
   "cell_type": "code",
   "execution_count": null,
   "id": "6eeee310",
   "metadata": {},
   "outputs": [],
   "source": [
    "import requests\n",
    "\n",
    "BASE_APP_MANAGER_URL = f\"http://localhost:5551\"\n",
    "BASE_WORKER_URL = f\"http://localhost:5553\"\n",
    "\n",
    "key = \"***\"\n",
    "headers = {\n",
    "    \"authorization-microservice\": f\"Bearer {key}\"\n",
    "}\n",
    "\n",
    "def make_http_get_request(url, headers):\n",
    "    response = requests.get(url, headers=headers)\n",
    "    if response.status_code == 200:\n",
    "        data = response.json()\n",
    "        print(data)\n",
    "    else:\n",
    "        print(\"Ошибка:\", response.status_code)\n",
    "        print(\"Ответ:\", response.text)\n",
    "\n",
    "def make_http_post_request(url, headers):\n",
    "    response = requests.post(url, headers=headers)\n",
    "    if response.status_code == 200:\n",
    "        data = response.json()\n",
    "        print(data)\n",
    "    else:\n",
    "        print(\"Ошибка:\", response.status_code)\n",
    "        print(\"Ответ:\", response.text)\n",
    "\n",
    "\n",
    "def start_app_manager():\n",
    "    make_http_post_request(f\"{BASE_APP_MANAGER_URL}/start\", headers=headers)\n",
    "\n",
    "def stop_app_manager():\n",
    "    make_http_post_request(f\"{BASE_APP_MANAGER_URL}/stop\", headers=headers)\n",
    "\n",
    "def get_app_manager_status():\n",
    "    make_http_get_request(f\"{BASE_APP_MANAGER_URL}/status\", headers=headers)\n",
    "\n",
    "def get_app_manager_health():\n",
    "    make_http_get_request(f\"{BASE_APP_MANAGER_URL}/health\", headers=headers)\n",
    "\n",
    "def start_worker():\n",
    "    make_http_post_request(f\"{BASE_WORKER_URL}/start\", headers=headers)\n",
    "\n",
    "def stop_worker():\n",
    "    make_http_post_request(f\"{BASE_WORKER_URL}/stop\", headers=headers)\n",
    "\n",
    "def get_worker_status():\n",
    "    make_http_get_request(f\"{BASE_WORKER_URL}/status\", headers=headers)\n",
    "\n",
    "def get_worker_health():\n",
    "    make_http_get_request(f\"{BASE_WORKER_URL}/health\", headers=headers)\n"
   ]
  },
  {
   "cell_type": "code",
   "execution_count": null,
   "id": "478fc11e",
   "metadata": {},
   "outputs": [],
   "source": [
    "# start_worker()\n",
    "# stop_worker()\n",
    "get_worker_health()\n",
    "get_worker_status()"
   ]
  },
  {
   "cell_type": "code",
   "execution_count": null,
   "id": "20fa9796",
   "metadata": {},
   "outputs": [],
   "source": [
    "# start_app_manager()\n",
    "# stop_app_manager()\n",
    "get_app_manager_status()\n",
    "get_app_manager_health()"
   ]
  }
 ],
 "metadata": {
  "kernelspec": {
   "display_name": "Python 3",
   "language": "python",
   "name": "python3"
  },
  "language_info": {
   "codemirror_mode": {
    "name": "ipython",
    "version": 3
   },
   "file_extension": ".py",
   "mimetype": "text/x-python",
   "name": "python",
   "nbconvert_exporter": "python",
   "pygments_lexer": "ipython3",
   "version": "3.13.3"
  }
 },
 "nbformat": 4,
 "nbformat_minor": 5
}
