{
 "cells": [
  {
   "cell_type": "code",
   "execution_count": null,
   "id": "e0e8fc24",
   "metadata": {},
   "outputs": [],
   "source": [
    "from utils.db_handler import AdminDBHandler\n",
    "from admin_config import BACKUPS_PATH\n",
    "\n",
    "db_config = {}"
   ]
  },
  {
   "cell_type": "code",
   "execution_count": null,
   "id": "c1332cc9",
   "metadata": {},
   "outputs": [],
   "source": [
    "DEV_DB_HANDLER = AdminDBHandler(db_config=db_config)\n",
    "cols = DEV_DB_HANDLER.get_table_columns(\"wb_core\", \"log\",)\n",
    "DEV_DB_HANDLER.copy_table_to_csv(\"wb_core\", \"log\", cols, BACKUPS_PATH / \"logs.csv\")\n",
    "\n"
   ]
  }
 ],
 "metadata": {
  "kernelspec": {
   "display_name": "Python 3",
   "language": "python",
   "name": "python3"
  },
  "language_info": {
   "codemirror_mode": {
    "name": "ipython",
    "version": 3
   },
   "file_extension": ".py",
   "mimetype": "text/x-python",
   "name": "python",
   "nbconvert_exporter": "python",
   "pygments_lexer": "ipython3",
   "version": "3.13.3"
  }
 },
 "nbformat": 4,
 "nbformat_minor": 5
}
