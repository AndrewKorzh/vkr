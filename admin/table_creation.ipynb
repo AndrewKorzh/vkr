{
 "cells": [
  {
   "cell_type": "code",
   "execution_count": null,
   "id": "e499bf98",
   "metadata": {},
   "outputs": [],
   "source": [
    "from utils.table_creation import (\n",
    "  create_store_table,\n",
    "  create_service_health_table,\n",
    "  create_store_process_table,\n",
    "  create_logs_table,\n",
    "  create_cards_list,\n",
    "  create_nm_report_detail_info_table,\n",
    "  create_nm_report_detail_table,\n",
    "  create_stock_table,\n",
    "  create_fact_sales_info_table,\n",
    "  create_fact_sales_table,\n",
    "  create_advert_type_mapping_table,\n",
    "  create_advert_info_table,\n",
    "  create_advert_load_info_table,\n",
    "  create_advert_stat_table,\n",
    "  create_dim_tech_list_table,\n",
    ")\n",
    "\n",
    "db_config = {}"
   ]
  },
  {
   "cell_type": "code",
   "execution_count": null,
   "id": "5edff9eb",
   "metadata": {},
   "outputs": [],
   "source": [
    "############################### ТАБЛИЦА ЗДОРОВЬЯ МИКРОСЕРВИСОВ ###############################\n",
    "create_service_health_table(db_config = db_config)\n",
    "\n",
    "############################### ТАБЛИЦА ВИТРИНА ТЕХ ЛИСТ ###############################\n",
    "create_dim_tech_list_table(db_config = db_config)\n",
    "\n",
    "############################### ТАБЛИЦА ЛОГОВ ###############################\n",
    "create_logs_table(db_config = db_config)\n",
    "\n",
    "############################### ОЧИСТКА И ПЕРЕСОЗДАНИЕ STORE_TABLE ###############################\n",
    "create_store_table(db_config = db_config)\n",
    "\n",
    "############################### ПЕРЕСОЗДАНИЕ ТАБЛИЦЫ С ПРОЦЕССАМИ ###############################\n",
    "create_store_process_table(db_config = db_config)\n",
    "\n",
    "############################### ПЕРЕСОЗДАНИЕ ПРОДУКТОВОЙ ТАБЛИЦЫ STAGE ###############################\n",
    "create_cards_list(db_config = db_config)\n",
    "\n",
    "############################### Служебная таблица для nm_report ###############################\n",
    "create_nm_report_detail_info_table(db_config = db_config)\n",
    "\n",
    "############################### Таблица nm_report ###############################\n",
    "create_nm_report_detail_table(db_config = db_config)\n",
    "\n",
    "############################### Таблица остатков ###############################\n",
    "create_stock_table(db_config = db_config)\n",
    "\n",
    "############################### Служебная таблица для fact_sales  ###############################\n",
    "create_fact_sales_info_table(db_config = db_config)\n",
    "\n",
    "############################### Таблица fact_sales  ###############################\n",
    "create_fact_sales_table(db_config = db_config)\n",
    "\n",
    "############################### Таблица advert_type_mapping ###############################\n",
    "create_advert_type_mapping_table(db_config = db_config)\n",
    "\n",
    "############################### Таблица информации о рекламе ###############################\n",
    "create_advert_info_table(db_config = db_config)\n",
    "\n",
    "############################### Таблица с информацией о загрузке рекламы ###############################\n",
    "create_advert_load_info_table(db_config = db_config)\n",
    "\n",
    "############################### Таблица с рекламой ###############################\n",
    "create_advert_stat_table(db_config = db_config)\n"
   ]
  }
 ],
 "metadata": {
  "kernelspec": {
   "display_name": "Python 3",
   "language": "python",
   "name": "python3"
  },
  "language_info": {
   "codemirror_mode": {
    "name": "ipython",
    "version": 3
   },
   "file_extension": ".py",
   "mimetype": "text/x-python",
   "name": "python",
   "nbconvert_exporter": "python",
   "pygments_lexer": "ipython3",
   "version": "3.13.3"
  }
 },
 "nbformat": 4,
 "nbformat_minor": 5
}
