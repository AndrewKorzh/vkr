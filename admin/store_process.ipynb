{
 "cells": [
  {
   "cell_type": "code",
   "execution_count": null,
   "id": "5f02dc1e",
   "metadata": {},
   "outputs": [],
   "source": [
    "import pandas as pd\n",
    "\n",
    "\n",
    "from admin_config import (\n",
    "  CORE_SCHEMA_NAME,\n",
    "  STORE_TABLE_NAME,\n",
    "  STORE_PROCESS_TABLE_NAME)\n",
    "\n",
    "from utils.store_process import (insert_store, populate_store_process_table, generate_uuid)"
   ]
  },
  {
   "cell_type": "code",
   "execution_count": null,
   "id": "eb60ed0a",
   "metadata": {},
   "outputs": [],
   "source": [
    "generate_uuid()\n",
    "db_config = {}"
   ]
  },
  {
   "cell_type": "code",
   "execution_count": null,
   "id": "94f84c2b",
   "metadata": {},
   "outputs": [],
   "source": [
    "CLIENTS_FILE_PATH = \"***\"\n",
    "df = pd.read_csv(CLIENTS_FILE_PATH)\n",
    "print(df['name'])\n",
    "\n",
    "store_id = 11\n",
    "name = df.loc[df['store_id'] == store_id, 'name'].values[0]\n",
    "api_token = df.loc[df['store_id'] == store_id, 'api_token'].values[0]\n",
    "secret_key = df.loc[df['store_id'] == store_id, 'secret_key'].values[0]\n",
    "table_id = df.loc[df['store_id'] == store_id, 'table_id'].values[0]\n",
    "\n",
    "insert_result = insert_store(\n",
    "            db_config = db_config,\n",
    "            schema_name=CORE_SCHEMA_NAME,\n",
    "            table_name=STORE_TABLE_NAME,\n",
    "            store_id=store_id,\n",
    "            store_name=name,\n",
    "            api_token=api_token,\n",
    "            secret_key=secret_key,\n",
    "            table_id=table_id)\n",
    "\n",
    "print(insert_result)"
   ]
  },
  {
   "cell_type": "code",
   "execution_count": null,
   "id": "43193b60",
   "metadata": {},
   "outputs": [],
   "source": [
    "populate_store_process_table(\n",
    "                            db_config = db_config,\n",
    "                            schema_name=CORE_SCHEMA_NAME,\n",
    "                            store_table_name=STORE_TABLE_NAME,\n",
    "                            store_process_table_name=STORE_PROCESS_TABLE_NAME\n",
    "                            )"
   ]
  }
 ],
 "metadata": {
  "kernelspec": {
   "display_name": "Python 3",
   "language": "python",
   "name": "python3"
  },
  "language_info": {
   "codemirror_mode": {
    "name": "ipython",
    "version": 3
   },
   "file_extension": ".py",
   "mimetype": "text/x-python",
   "name": "python",
   "nbconvert_exporter": "python",
   "pygments_lexer": "ipython3",
   "version": "3.13.3"
  }
 },
 "nbformat": 4,
 "nbformat_minor": 5
}
